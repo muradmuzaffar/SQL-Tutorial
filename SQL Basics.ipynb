{
 "cells": [
  {
   "cell_type": "markdown",
   "id": "3f5e86d6",
   "metadata": {},
   "source": [
    "**SQL** can be divided into two parts:\n",
    "   - DDL (Data Definition Language)\n",
    "   - DML (The Data Manipulation Language)"
   ]
  },
  {
   "cell_type": "markdown",
   "id": "7856460e",
   "metadata": {},
   "source": [
    "### DML"
   ]
  },
  {
   "cell_type": "markdown",
   "id": "9396401e",
   "metadata": {},
   "source": [
    "- *SELECT* - extracts data from a database\n",
    "- *UPDATE* - updates data in a database\n",
    "- *DELETE* - deletes data from a database\n",
    "- *INSERT* *INTO* - inserts new data into a database"
   ]
  },
  {
   "cell_type": "markdown",
   "id": "35de9168",
   "metadata": {},
   "source": [
    "### DDL"
   ]
  },
  {
   "cell_type": "markdown",
   "id": "54b084b4",
   "metadata": {},
   "source": [
    "- *CREATE DATABASE* - creates a new database\n",
    "- *ALTER DATABASE* - modifies a database\n",
    "- *CREATE TABLE* - creates a new table\n",
    "- *ALTER TABLE* - modifies a table\n",
    "- *DROP TABLE* - deletes a table\n",
    "- *CREATE INDEX* - creates an index (search key)\n",
    "- *DROP INDEX* - deletes an index\n"
   ]
  },
  {
   "cell_type": "code",
   "execution_count": null,
   "id": "de257074",
   "metadata": {},
   "outputs": [],
   "source": [
    "# !pip install ipython-sql "
   ]
  },
  {
   "cell_type": "code",
   "execution_count": null,
   "id": "1c1cf8f7",
   "metadata": {},
   "outputs": [],
   "source": [
    "%load_ext sql"
   ]
  },
  {
   "cell_type": "code",
   "execution_count": 2,
   "id": "d61e3505",
   "metadata": {},
   "outputs": [],
   "source": [
    "%sql sqlite:///base.db"
   ]
  },
  {
   "cell_type": "code",
   "execution_count": 6,
   "id": "76a32325",
   "metadata": {},
   "outputs": [
    {
     "name": "stdout",
     "output_type": "stream",
     "text": [
      " * sqlite:///base.db\n",
      "Done.\n"
     ]
    },
    {
     "data": {
      "text/html": [
       "<table>\n",
       "    <tr>\n",
       "        <th>name</th>\n",
       "    </tr>\n",
       "    <tr>\n",
       "        <td>Categories</td>\n",
       "    </tr>\n",
       "    <tr>\n",
       "        <td>Customers</td>\n",
       "    </tr>\n",
       "    <tr>\n",
       "        <td>Employees</td>\n",
       "    </tr>\n",
       "    <tr>\n",
       "        <td>OrderDetails</td>\n",
       "    </tr>\n",
       "    <tr>\n",
       "        <td>Orders</td>\n",
       "    </tr>\n",
       "    <tr>\n",
       "        <td>Products</td>\n",
       "    </tr>\n",
       "    <tr>\n",
       "        <td>Shippers</td>\n",
       "    </tr>\n",
       "    <tr>\n",
       "        <td>Suppliers</td>\n",
       "    </tr>\n",
       "</table>"
      ],
      "text/plain": [
       "[('Categories',),\n",
       " ('Customers',),\n",
       " ('Employees',),\n",
       " ('OrderDetails',),\n",
       " ('Orders',),\n",
       " ('Products',),\n",
       " ('Shippers',),\n",
       " ('Suppliers',)]"
      ]
     },
     "execution_count": 6,
     "metadata": {},
     "output_type": "execute_result"
    }
   ],
   "source": [
    "# show all table names\n",
    "%%sql\n",
    "SELECT \n",
    "    name\n",
    "FROM \n",
    "    sqlite_schema\n"
   ]
  },
  {
   "cell_type": "markdown",
   "id": "aa9a1bd9",
   "metadata": {},
   "source": [
    "### SELECT Statement"
   ]
  },
  {
   "cell_type": "markdown",
   "id": "8cd7c14d",
   "metadata": {},
   "source": [
    "**SQL SELECT Syntax**\n",
    "- SELECT column_name(s) FROM table_name"
   ]
  },
  {
   "cell_type": "code",
   "execution_count": 10,
   "id": "fde68180",
   "metadata": {},
   "outputs": [
    {
     "name": "stdout",
     "output_type": "stream",
     "text": [
      " * sqlite:///base.db\n",
      "Done.\n"
     ]
    },
    {
     "data": {
      "text/html": [
       "<table>\n",
       "    <tr>\n",
       "        <th>CustomerID</th>\n",
       "        <th>CustomerName</th>\n",
       "        <th>ContactName</th>\n",
       "        <th>Address</th>\n",
       "        <th>City</th>\n",
       "        <th>PostalCode</th>\n",
       "        <th>Country</th>\n",
       "    </tr>\n",
       "    <tr>\n",
       "        <td>1</td>\n",
       "        <td>Alfreds Futterkiste</td>\n",
       "        <td>Maria Anders</td>\n",
       "        <td>Obere Str. 57</td>\n",
       "        <td>Berlin</td>\n",
       "        <td>12209</td>\n",
       "        <td>Germany</td>\n",
       "    </tr>\n",
       "    <tr>\n",
       "        <td>2</td>\n",
       "        <td>Ana Trujillo Emparedados y helados</td>\n",
       "        <td>Ana Trujillo</td>\n",
       "        <td>Avda. de la Constitución 2222</td>\n",
       "        <td>México D.F.</td>\n",
       "        <td>5021</td>\n",
       "        <td>Mexico</td>\n",
       "    </tr>\n",
       "    <tr>\n",
       "        <td>3</td>\n",
       "        <td>Antonio Moreno Taquería</td>\n",
       "        <td>Antonio Moreno</td>\n",
       "        <td>Mataderos 2312</td>\n",
       "        <td>México D.F.</td>\n",
       "        <td>5023</td>\n",
       "        <td>Mexico</td>\n",
       "    </tr>\n",
       "    <tr>\n",
       "        <td>4</td>\n",
       "        <td>Around the Horn</td>\n",
       "        <td>Thomas Hardy</td>\n",
       "        <td>120 Hanover Sq.</td>\n",
       "        <td>London</td>\n",
       "        <td>WA1 1DP</td>\n",
       "        <td>UK</td>\n",
       "    </tr>\n",
       "    <tr>\n",
       "        <td>5</td>\n",
       "        <td>Berglunds snabbköp</td>\n",
       "        <td>Christina Berglund</td>\n",
       "        <td>Berguvsvägen 8</td>\n",
       "        <td>Luleå</td>\n",
       "        <td>S-958 22</td>\n",
       "        <td>Sweden</td>\n",
       "    </tr>\n",
       "</table>"
      ],
      "text/plain": [
       "[(1, 'Alfreds Futterkiste', 'Maria Anders', 'Obere Str. 57', 'Berlin', '12209', 'Germany'),\n",
       " (2, 'Ana Trujillo Emparedados y helados', 'Ana Trujillo', 'Avda. de la Constitución 2222', 'México D.F.', '5021', 'Mexico'),\n",
       " (3, 'Antonio Moreno Taquería', 'Antonio Moreno', 'Mataderos 2312', 'México D.F.', '5023', 'Mexico'),\n",
       " (4, 'Around the Horn', 'Thomas Hardy', '120 Hanover Sq.', 'London', 'WA1 1DP', 'UK'),\n",
       " (5, 'Berglunds snabbköp', 'Christina Berglund', 'Berguvsvägen 8', 'Luleå', 'S-958 22', 'Sweden')]"
      ]
     },
     "execution_count": 10,
     "metadata": {},
     "output_type": "execute_result"
    }
   ],
   "source": [
    "%%sql \n",
    "SELECT * FROM Customers LIMIT 5 \n",
    "# LIMIT show first n column\n",
    "# * shows every column"
   ]
  },
  {
   "cell_type": "code",
   "execution_count": 12,
   "id": "a98fbbea",
   "metadata": {},
   "outputs": [
    {
     "name": "stdout",
     "output_type": "stream",
     "text": [
      " * sqlite:///base.db\n",
      "Done.\n"
     ]
    },
    {
     "data": {
      "text/html": [
       "<table>\n",
       "    <tr>\n",
       "        <th>CustomerName</th>\n",
       "        <th>Country</th>\n",
       "    </tr>\n",
       "    <tr>\n",
       "        <td>Alfreds Futterkiste</td>\n",
       "        <td>Germany</td>\n",
       "    </tr>\n",
       "    <tr>\n",
       "        <td>Ana Trujillo Emparedados y helados</td>\n",
       "        <td>Mexico</td>\n",
       "    </tr>\n",
       "    <tr>\n",
       "        <td>Antonio Moreno Taquería</td>\n",
       "        <td>Mexico</td>\n",
       "    </tr>\n",
       "    <tr>\n",
       "        <td>Around the Horn</td>\n",
       "        <td>UK</td>\n",
       "    </tr>\n",
       "    <tr>\n",
       "        <td>Berglunds snabbköp</td>\n",
       "        <td>Sweden</td>\n",
       "    </tr>\n",
       "</table>"
      ],
      "text/plain": [
       "[('Alfreds Futterkiste', 'Germany'),\n",
       " ('Ana Trujillo Emparedados y helados', 'Mexico'),\n",
       " ('Antonio Moreno Taquería', 'Mexico'),\n",
       " ('Around the Horn', 'UK'),\n",
       " ('Berglunds snabbköp', 'Sweden')]"
      ]
     },
     "execution_count": 12,
     "metadata": {},
     "output_type": "execute_result"
    }
   ],
   "source": [
    "%%sql \n",
    "SELECT CustomerName,Country FROM Customers LIMIT 5;"
   ]
  },
  {
   "cell_type": "markdown",
   "id": "81a28f62",
   "metadata": {},
   "source": [
    "### SQL SELECT DISTINCT Statement"
   ]
  },
  {
   "cell_type": "markdown",
   "id": "53f5f603",
   "metadata": {},
   "source": [
    "- SELECT DISTINCT column_name(s) FROM table_name\n",
    "- DISTINCt show unique values from column"
   ]
  },
  {
   "cell_type": "code",
   "execution_count": 13,
   "id": "a72c6163",
   "metadata": {},
   "outputs": [
    {
     "name": "stdout",
     "output_type": "stream",
     "text": [
      " * sqlite:///base.db\n",
      "Done.\n"
     ]
    },
    {
     "data": {
      "text/html": [
       "<table>\n",
       "    <tr>\n",
       "        <th>Country</th>\n",
       "    </tr>\n",
       "    <tr>\n",
       "        <td>Germany</td>\n",
       "    </tr>\n",
       "    <tr>\n",
       "        <td>Mexico</td>\n",
       "    </tr>\n",
       "    <tr>\n",
       "        <td>UK</td>\n",
       "    </tr>\n",
       "    <tr>\n",
       "        <td>Sweden</td>\n",
       "    </tr>\n",
       "    <tr>\n",
       "        <td>France</td>\n",
       "    </tr>\n",
       "</table>"
      ],
      "text/plain": [
       "[('Germany',), ('Mexico',), ('UK',), ('Sweden',), ('France',)]"
      ]
     },
     "execution_count": 13,
     "metadata": {},
     "output_type": "execute_result"
    }
   ],
   "source": [
    "%%sql\n",
    "SELECT DISTINCT Country FROM Customers LIMIT 5;"
   ]
  },
  {
   "cell_type": "markdown",
   "id": "ef3f7aa6",
   "metadata": {},
   "source": [
    "### WHERE Clause"
   ]
  },
  {
   "cell_type": "markdown",
   "id": "72b62127",
   "metadata": {},
   "source": [
    "- The WHERE clause is used to filter records.\n",
    "- The WHERE clause is used to extract only those records that fulfill a specified criterion.\n",
    "- SQL WHERE Syntax\n"
   ]
  },
  {
   "cell_type": "code",
   "execution_count": 19,
   "id": "6257ed83",
   "metadata": {},
   "outputs": [
    {
     "data": {
      "text/plain": [
       "'SELECT column_name(s)\\n   FROM table_name\\n   WHERE column_name operator value '"
      ]
     },
     "execution_count": 19,
     "metadata": {},
     "output_type": "execute_result"
    }
   ],
   "source": [
    "\"\"\"SELECT column_name(s)\n",
    "   FROM table_name\n",
    "   WHERE column_name operator value \"\"\""
   ]
  },
  {
   "cell_type": "code",
   "execution_count": 17,
   "id": "05a088d1",
   "metadata": {},
   "outputs": [
    {
     "name": "stdout",
     "output_type": "stream",
     "text": [
      " * sqlite:///base.db\n",
      "Done.\n"
     ]
    },
    {
     "data": {
      "text/html": [
       "<table>\n",
       "    <tr>\n",
       "        <th>CustomerName</th>\n",
       "    </tr>\n",
       "    <tr>\n",
       "        <td>Around the Horn</td>\n",
       "    </tr>\n",
       "    <tr>\n",
       "        <td>B&#x27;s Beverages</td>\n",
       "    </tr>\n",
       "    <tr>\n",
       "        <td>Consolidated Holdings</td>\n",
       "    </tr>\n",
       "    <tr>\n",
       "        <td>Eastern Connection</td>\n",
       "    </tr>\n",
       "    <tr>\n",
       "        <td>Island Trading</td>\n",
       "    </tr>\n",
       "    <tr>\n",
       "        <td>North/South</td>\n",
       "    </tr>\n",
       "    <tr>\n",
       "        <td>Seven Seas Imports</td>\n",
       "    </tr>\n",
       "</table>"
      ],
      "text/plain": [
       "[('Around the Horn',),\n",
       " (\"B's Beverages\",),\n",
       " ('Consolidated Holdings',),\n",
       " ('Eastern Connection',),\n",
       " ('Island Trading',),\n",
       " ('North/South',),\n",
       " ('Seven Seas Imports',)]"
      ]
     },
     "execution_count": 17,
     "metadata": {},
     "output_type": "execute_result"
    }
   ],
   "source": [
    "%%sql\n",
    "SELECT CustomerName FROM Customers where Country = 'UK'"
   ]
  },
  {
   "cell_type": "markdown",
   "id": "3143457c",
   "metadata": {},
   "source": [
    "### Operators Allowed in the WHERE Clause\n"
   ]
  },
  {
   "cell_type": "code",
   "execution_count": null,
   "id": "6cbd7bef",
   "metadata": {},
   "outputs": [],
   "source": [
    "\"\"\"\n",
    "= -> equal\n",
    "<> -> not equal\n",
    "> -> greater than\n",
    "< -> less than\n",
    ">= -> Greater than or equal\n",
    "<= -> Less than or equal\n",
    "BETWEEN -> Between an inclusive range\n",
    "LIKE -> Search for a pattern\n",
    "IN -> If you know the exact value you want to return for at least one of the columns\n",
    "\n",
    "\"\"\""
   ]
  },
  {
   "cell_type": "markdown",
   "id": "ce380eee",
   "metadata": {},
   "source": [
    "### AND & OR Operators"
   ]
  }
 ],
 "metadata": {
  "kernelspec": {
   "display_name": "Python 3 (ipykernel)",
   "language": "python",
   "name": "python3"
  },
  "language_info": {
   "codemirror_mode": {
    "name": "ipython",
    "version": 3
   },
   "file_extension": ".py",
   "mimetype": "text/x-python",
   "name": "python",
   "nbconvert_exporter": "python",
   "pygments_lexer": "ipython3",
   "version": "3.9.1"
  }
 },
 "nbformat": 4,
 "nbformat_minor": 5
}
