{
 "cells": [
  {
   "cell_type": "code",
   "execution_count": 1,
   "id": "f70ec557",
   "metadata": {},
   "outputs": [],
   "source": [
    "%load_ext sql"
   ]
  },
  {
   "cell_type": "code",
   "execution_count": 2,
   "id": "d61e3505",
   "metadata": {},
   "outputs": [],
   "source": [
    "%sql sqlite:///base.db"
   ]
  },
  {
   "cell_type": "code",
   "execution_count": 4,
   "id": "76a32325",
   "metadata": {},
   "outputs": [
    {
     "name": "stdout",
     "output_type": "stream",
     "text": [
      " * sqlite:///base.db\n",
      "(sqlite3.OperationalError) no such table: INFORMATION_SCHEMA.TABLES\n",
      "[SQL: SELECT *\n",
      "FROM INFORMATION_SCHEMA.TABLES]\n",
      "(Background on this error at: https://sqlalche.me/e/14/e3q8)\n"
     ]
    }
   ],
   "source": [
    "%%sql\n",
    "SELECT *\n",
    "FROM INFORMATION_SCHEMA.TABLES"
   ]
  }
 ],
 "metadata": {
  "kernelspec": {
   "display_name": "Python 3 (ipykernel)",
   "language": "python",
   "name": "python3"
  },
  "language_info": {
   "codemirror_mode": {
    "name": "ipython",
    "version": 3
   },
   "file_extension": ".py",
   "mimetype": "text/x-python",
   "name": "python",
   "nbconvert_exporter": "python",
   "pygments_lexer": "ipython3",
   "version": "3.9.1"
  }
 },
 "nbformat": 4,
 "nbformat_minor": 5
}
